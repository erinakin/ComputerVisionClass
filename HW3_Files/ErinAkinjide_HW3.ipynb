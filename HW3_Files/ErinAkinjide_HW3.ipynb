{
  "cells": [
    {
      "cell_type": "markdown",
      "id": "7478671d",
      "metadata": {
        "id": "7478671d"
      },
      "source": [
        "# ECES 681 - Computer Vision\n",
        "\n",
        "## Homework 3\n",
        "\n",
        "### Problem 1:\n",
        "\n",
        "\n",
        "\n",
        "Print out training losses and train and val set\n",
        "accuracy as it trains. After training concludes, also make a plot of the training losses as well as the training\n",
        "and validation-set accuracy of the model during training."
      ]
    },
    {
      "cell_type": "code",
      "execution_count": 76,
      "id": "da12f30d",
      "metadata": {
        "id": "da12f30d"
      },
      "outputs": [],
      "source": [
        "import torch\n",
        "import numpy as np\n",
        "import matplotlib.pyplot as plt\n",
        "import random\n",
        "\n",
        "import torch.nn as nn\n",
        "import torch.optim as optim\n",
        "import torchvision.transforms as transforms\n",
        "from torchvision.datasets import CIFAR10\n",
        "from torch.utils.data import DataLoader, random_split\n",
        "from torch.amp import autocast, GradScaler\n"
      ]
    },
    {
      "cell_type": "code",
      "source": [
        "device = torch.device(\"cuda\" if torch.cuda.is_available() else \"cpu\")\n",
        "print(\"Using device:\", device)"
      ],
      "metadata": {
        "id": "i52Sag7QWGQx",
        "outputId": "51f76ef9-c255-4e40-ced0-1a0391e549f0",
        "colab": {
          "base_uri": "https://localhost:8080/"
        }
      },
      "id": "i52Sag7QWGQx",
      "execution_count": 45,
      "outputs": [
        {
          "output_type": "stream",
          "name": "stdout",
          "text": [
            "Using device: cuda\n"
          ]
        }
      ]
    },
    {
      "cell_type": "markdown",
      "id": "d27de67b",
      "metadata": {
        "id": "d27de67b"
      },
      "source": [
        "### Load CIFAR-10 Dataset\n",
        "Load CIFAR-10 dataset for image classification. This dataset consists of 32 × 32 RGB images of 10 different categories."
      ]
    },
    {
      "cell_type": "code",
      "execution_count": 9,
      "id": "8f8f1504",
      "metadata": {
        "id": "8f8f1504"
      },
      "outputs": [],
      "source": [
        "# Load the CIFAR10 dataset\n",
        "transform = transforms.ToTensor()\n",
        "\n",
        "train_dataset = CIFAR10(root='./data', train=True, download=True, transform=transform)\n",
        "test_dataset = CIFAR10(root='./data', train=False, download=True, transform=transform)\n",
        "\n",
        "# Split the training dataset into training and validation sets\n",
        "generator = torch.Generator().manual_seed(42)\n",
        "train_set, val_set = random_split(train_dataset, [40000, 10000],generator=generator)\n",
        "\n",
        "# Dataloaders\n",
        "train_loader = DataLoader(train_set, batch_size=64, shuffle=True, generator=generator)\n",
        "val_loader = DataLoader(val_set, batch_size=64, shuffle=False)\n",
        "test_loader = DataLoader(test_dataset, batch_size=64, shuffle=False)"
      ]
    },
    {
      "cell_type": "markdown",
      "id": "70f48c8d",
      "metadata": {
        "id": "70f48c8d"
      },
      "source": [
        "### Define Network Architecture\n",
        "This network has two FC layers with one ReLU activation layer: input -> FC layer -> ReLU layer -> FC\n",
        "layer -> scores. Write two_layer_net.ipynb function\n"
      ]
    },
    {
      "cell_type": "code",
      "execution_count": 10,
      "id": "60bd620f",
      "metadata": {
        "id": "60bd620f"
      },
      "outputs": [],
      "source": [
        "#  Define Network Architecture\n",
        "class TwoLayerNet(nn.Module):\n",
        "    \"\"\"A two-layer fully connected neural network.\"\"\"\n",
        "    def __init__(self, input_dim=3072, hidden_dim=100, num_classes=10):\n",
        "        \"\"\"\n",
        "        Args:\n",
        "            input_dim (int): Size of the input vector (default 3072 for CIFAR-10).\n",
        "            hidden_dim (int): Number of neurons in the hidden layer.\n",
        "            num_classes (int): Number of output classes.\n",
        "        \"\"\"\n",
        "        super().__init__()\n",
        "        # Fully connected layer 1\n",
        "        self.fc1 = nn.Linear(input_dim, hidden_dim)\n",
        "        # ReLU activated Layer\n",
        "        self.relu = nn.ReLU()\n",
        "        # Fully connected layer 2\n",
        "        self.fc2 = nn.Linear(hidden_dim, num_classes)\n",
        "\n",
        "    def forward(self, x):\n",
        "         \"\"\"\n",
        "        Defines the forward pass through the network.\n",
        "\n",
        "        Args:\n",
        "            x (Tensor): Input tensor of shape (batch_size, 3, 32, 32)\n",
        "\n",
        "        Returns:\n",
        "            Tensor: Output scores of shape (batch_size, num_classes)\n",
        "        \"\"\"\n",
        "        # Flatten the tensor\n",
        "         x = x.view(x.size(0), -1)\n",
        "         x = self.fc1(x)\n",
        "         # Apply ReLU activation\n",
        "         x = self.relu(x)\n",
        "         return self.fc2(x)"
      ]
    },
    {
      "cell_type": "code",
      "execution_count": 11,
      "id": "b9f33cec",
      "metadata": {
        "id": "b9f33cec"
      },
      "outputs": [],
      "source": [
        "# Define a function to handle calculating the accuracy and loss of the model\n",
        "def evaluate_model(model, data_loader, criterion):\n",
        "    \"\"\"\n",
        "    Evaluates the model's average loss and accuracy on a dataset.\n",
        "\n",
        "    Args:\n",
        "        model (nn.Module): The trained model to evaluate.\n",
        "        data_loader (DataLoader): DataLoader for validation or test set.\n",
        "        criterion (nn.Module): Loss function used (e.g., CrossEntropyLoss).\n",
        "\n",
        "    Returns:\n",
        "        tuple: (average_loss, accuracy) for the dataset\n",
        "    \"\"\"\n",
        "    model.eval() # Set the model to evaluation mode\n",
        "    running_loss = 0.0\n",
        "    correct = 0\n",
        "    total = 0\n",
        "\n",
        "    with torch.no_grad(): # Disable gradient computation for speed\n",
        "        for images, labels in data_loader: # Loop over validation or test data in batches\n",
        "            outputs = model(images) # Perform forward pass through model for predicted scores\n",
        "            loss = criterion(outputs, labels)\n",
        "            running_loss += loss.item()\n",
        "\n",
        "            _, predicted = torch.max(outputs, 1) #  Choose index of highest score for each sample (predicted class)\n",
        "            total += labels.size(0)\n",
        "            correct += (predicted == labels).sum().item()\n",
        "\n",
        "    avg_loss = running_loss / len(data_loader)\n",
        "    accuracy = correct / total\n",
        "    return avg_loss, accuracy\n"
      ]
    },
    {
      "cell_type": "markdown",
      "id": "64bbc0bb",
      "metadata": {
        "id": "64bbc0bb"
      },
      "source": [
        "### Train the Two-Layer Network with Loss and L2 Regularization\n",
        "Initialize the two-layer network and the optimizer using stochastic gradient descent, implement a training loop for training.\n",
        "\n",
        "\n",
        "The loss should be the sum of two terms:  \n",
        "• A data loss term, which is the softmax loss between the model’s predicted scores and the ground-truth\n",
        "image labels.  \n",
        "• A regularization loss term, which penalizes the L2 norm of the weight matrices of all the fully-connected\n",
        "layers of the model. You should not apply L2 regularization to the biases."
      ]
    },
    {
      "cell_type": "code",
      "execution_count": 12,
      "id": "b85261e3",
      "metadata": {
        "id": "b85261e3"
      },
      "outputs": [],
      "source": [
        "# Initialize the model, loss function, and optimizer\n",
        "model = TwoLayerNet(input_dim=32*32*3, hidden_dim=256, num_classes=10)\n",
        "\n",
        "learning_rate = 0.01\n",
        "# weight_decay parameter in torch automatically applies L2 regularization\n",
        "# to weights only\n",
        "weight_decay = 0.0001\n",
        "\n",
        "# Cross entropy loss deals with softmax loss\n",
        "criterion = nn.CrossEntropyLoss()\n",
        "optimizer = optim.SGD(model.parameters(), lr=learning_rate, weight_decay=weight_decay)"
      ]
    },
    {
      "cell_type": "code",
      "execution_count": 13,
      "id": "690e2d93",
      "metadata": {
        "colab": {
          "base_uri": "https://localhost:8080/"
        },
        "id": "690e2d93",
        "outputId": "565475ed-4c63-4dc6-dd92-2f79c47c33aa"
      },
      "outputs": [
        {
          "output_type": "stream",
          "name": "stdout",
          "text": [
            "Epoch 1/10 | Train Loss: 2.0425, Train Acc: 0.2729 | Val Loss: 1.9077, Val Acc: 0.3409\n",
            "Epoch 2/10 | Train Loss: 1.8696, Train Acc: 0.3436 | Val Loss: 1.8292, Val Acc: 0.3586\n",
            "Epoch 3/10 | Train Loss: 1.8022, Train Acc: 0.3684 | Val Loss: 1.7732, Val Acc: 0.3734\n",
            "Epoch 4/10 | Train Loss: 1.7519, Train Acc: 0.3860 | Val Loss: 1.7326, Val Acc: 0.3894\n",
            "Epoch 5/10 | Train Loss: 1.7121, Train Acc: 0.4016 | Val Loss: 1.7027, Val Acc: 0.3997\n",
            "Epoch 6/10 | Train Loss: 1.6761, Train Acc: 0.4153 | Val Loss: 1.6610, Val Acc: 0.4215\n",
            "Epoch 7/10 | Train Loss: 1.6443, Train Acc: 0.4255 | Val Loss: 1.6464, Val Acc: 0.4248\n",
            "Epoch 8/10 | Train Loss: 1.6187, Train Acc: 0.4344 | Val Loss: 1.6248, Val Acc: 0.4339\n",
            "Epoch 9/10 | Train Loss: 1.5952, Train Acc: 0.4426 | Val Loss: 1.6018, Val Acc: 0.4376\n",
            "Epoch 10/10 | Train Loss: 1.5753, Train Acc: 0.4504 | Val Loss: 1.5884, Val Acc: 0.4411\n"
          ]
        }
      ],
      "source": [
        "# Training configuration\n",
        "num_epochs = 10\n",
        "train_losses = []\n",
        "train_accuracies = []\n",
        "val_losses = []\n",
        "val_accuracies = []\n",
        "\n",
        "# Training loop\n",
        "for epoch in range(num_epochs):\n",
        "    model.train()  # Enable training mode\n",
        "    running_loss = 0.0\n",
        "    correct = 0\n",
        "    total = 0\n",
        "\n",
        "    for images, labels in train_loader:\n",
        "        optimizer.zero_grad()             # Clear previous gradients\n",
        "        outputs = model(images)           # Forward pass\n",
        "        loss = criterion(outputs, labels) # Compute loss\n",
        "        loss.backward()                   # Backpropagation\n",
        "        optimizer.step()                  # Update weights\n",
        "\n",
        "        # Accumulate training loss\n",
        "        running_loss += loss.item() * images.size(0)\n",
        "\n",
        "        # Compute training accuracy on the fly\n",
        "        _, predicted = torch.max(outputs, 1)\n",
        "        total += labels.size(0)\n",
        "        correct += (predicted == labels).sum().item()\n",
        "\n",
        "    # Average training loss and accuracy for this epoch\n",
        "    avg_train_loss = running_loss / len(train_loader.dataset)\n",
        "    train_accuracy = correct / total\n",
        "\n",
        "    train_losses.append(avg_train_loss)\n",
        "    train_accuracies.append(train_accuracy)\n",
        "\n",
        "    # Evaluate on validation set\n",
        "    val_loss, val_acc = evaluate_model(model, val_loader, criterion)\n",
        "    val_losses.append(val_loss)\n",
        "    val_accuracies.append(val_acc)\n",
        "\n",
        "    # Print training progress\n",
        "    print(f\"Epoch {epoch+1}/{num_epochs} | \"\n",
        "          f\"Train Loss: {avg_train_loss:.4f}, Train Acc: {train_accuracy:.4f} | \"\n",
        "          f\"Val Loss: {val_loss:.4f}, Val Acc: {val_acc:.4f}\")\n"
      ]
    },
    {
      "cell_type": "markdown",
      "id": "d09d4d9f",
      "metadata": {
        "id": "d09d4d9f"
      },
      "source": [
        "### Plot the Loss and Accuracy"
      ]
    },
    {
      "cell_type": "code",
      "execution_count": 14,
      "id": "95b86a9a",
      "metadata": {
        "colab": {
          "base_uri": "https://localhost:8080/",
          "height": 276
        },
        "id": "95b86a9a",
        "outputId": "765d2fd0-91a7-46e1-e23d-7655ca3f7903"
      },
      "outputs": [
        {
          "output_type": "display_data",
          "data": {
            "text/plain": [
              "<Figure size 1200x500 with 2 Axes>"
            ],
            "image/png": "[encoded data removed]"
          },
          "metadata": {}
        }
      ],
      "source": [
        "import matplotlib.pyplot as plt\n",
        "\n",
        "plt.figure(figsize=(12, 5))\n",
        "\n",
        "# Plot training loss\n",
        "plt.subplot(1, 2, 1)\n",
        "plt.plot(train_losses, label='Training Loss', color='blue')\n",
        "plt.xlabel(\"Epoch\")\n",
        "plt.ylabel(\"Loss\")\n",
        "plt.title(\"Training Loss\")\n",
        "plt.grid(True)\n",
        "plt.legend()\n",
        "\n",
        "# Plot training and validation accuracy\n",
        "plt.subplot(1, 2, 2)\n",
        "plt.plot(train_accuracies, label='Train Accuracy', color='green')\n",
        "plt.plot(val_accuracies, label='Validation Accuracy', color='orange')\n",
        "plt.xlabel(\"Epoch\")\n",
        "plt.ylabel(\"Accuracy\")\n",
        "plt.title(\"Accuracy\")\n",
        "plt.grid(True)\n",
        "plt.legend()\n",
        "\n",
        "plt.tight_layout()\n",
        "plt.show()\n"
      ]
    },
    {
      "cell_type": "markdown",
      "source": [
        "Save best model weights"
      ],
      "metadata": {
        "id": "0z738lEaHvc2"
      },
      "id": "0z738lEaHvc2"
    },
    {
      "cell_type": "code",
      "source": [
        "best_model_state = model.state_dict()  # Save a copy of model weights\n",
        "torch.save(best_model_state, 'best_twonet_model.pth')  # Save to file\n",
        "\n"
      ],
      "metadata": {
        "id": "owKJWjxNHvAd"
      },
      "id": "owKJWjxNHvAd",
      "execution_count": 15,
      "outputs": []
    },
    {
      "cell_type": "markdown",
      "source": [
        "Best Model Hyperparameters:\n",
        "\n",
        "Validation Accuracy: 44.11%\n",
        "\n",
        "- num_train: 40,000 images\n",
        "- hidden_dim: 256\n",
        "- batch_size: 64\n",
        "- num_epochs: 10  \n",
        "- learning_rate: 0.01\n",
        "- reg: 0.001"
      ],
      "metadata": {
        "id": "Vo-DiAXEtRPx"
      },
      "id": "Vo-DiAXEtRPx"
    },
    {
      "cell_type": "markdown",
      "source": [
        "Final Test Accuracy"
      ],
      "metadata": {
        "id": "6GM55Ey48XMc"
      },
      "id": "6GM55Ey48XMc"
    },
    {
      "cell_type": "code",
      "source": [
        "test_loss, test_accuracy = evaluate_model(model, test_loader, criterion)\n",
        "print(f\"[TwoLayerNet] Final Test Loss: {test_loss:.4f}, Final Test Accuracy: {test_accuracy:.4f}\")"
      ],
      "metadata": {
        "id": "FCmEuDDM8Z5C",
        "outputId": "713522c4-d0db-4c3f-f933-fbeb8f26d6ae",
        "colab": {
          "base_uri": "https://localhost:8080/"
        }
      },
      "id": "FCmEuDDM8Z5C",
      "execution_count": 16,
      "outputs": [
        {
          "output_type": "stream",
          "name": "stdout",
          "text": [
            "[TwoLayerNet] Final Test Loss: 1.5800, Final Test Accuracy: 0.4465\n"
          ]
        }
      ]
    },
    {
      "cell_type": "markdown",
      "id": "c623dc41",
      "metadata": {
        "id": "c623dc41"
      },
      "source": [
        "### Problem 2:\n",
        "\n",
        "\n",
        "In this assignment, you will design, implement, and train a two-layer Convolutional Neural Network\n",
        "(CNN) followed by one fully connected (dense) layer at the end. Your goal is to improve the model's\n",
        "performance using techniques learned in class.\n",
        "\n",
        "Instructions:\n",
        "1. Build the CNN Architecture\n",
        "\n",
        "  - The network should consist of two convolutional layers followed by at least one fully\n",
        "connected layer at the end.\n",
        "  - You may use ReLU activation for non-linearity and max pooling to reduce spatial\n",
        "dimensions.\n",
        "  - Feel free to experiment with kernel sizes, strides, and padding to improve performance.\n",
        "2. Enhance Model Performance\n",
        "\n",
        "  - Implement any optimization techniques learned in class, such as:\n",
        "    * Batch Normalization (for stable and faster training)\n",
        "    * Dropout (to prevent overfitting)\n",
        "    * Data Augmentation (to increase dataset diversity)\n",
        "  - You may also experiment with different learning rates, optimizers, or regularization\n",
        "techniques to achieve higher accuracy.\n",
        "\n",
        "3. Train Your Model\n",
        "  - Use the same dataset as in Problem 1.\n",
        "  - Follow all the training steps and preprocessing mentioned in Problem 1.\n",
        "  - Ensure proper train-validation splitting to evaluate the model correctly.\n",
        "4. Evaluate Your Model\n",
        "\n",
        "  - Report training and validation accuracy/loss using appropriate plots.\n",
        "  - Report test accuracy/loss using using the best setting.\n",
        "  - Compare your results with those from Problem 1.\n",
        "  - Discuss how the addition of CNN layers and techniques like dropout or batch normalization affected performance."
      ]
    },
    {
      "cell_type": "code",
      "source": [],
      "metadata": {
        "id": "KqTsJ_i55MyG"
      },
      "id": "KqTsJ_i55MyG",
      "execution_count": null,
      "outputs": []
    },
    {
      "cell_type": "markdown",
      "id": "f3b5f926",
      "metadata": {
        "id": "f3b5f926"
      },
      "source": [
        "#### Data Augmentation\n",
        "\n",
        "To increase dataset diversity"
      ]
    },
    {
      "cell_type": "code",
      "source": [
        "transform_train = transforms.Compose([\n",
        "    transforms.RandomHorizontalFlip(),         # Randomly flip image horizontally\n",
        "    transforms.RandomCrop(32, padding=4),      # Randomly crop to 32x32 with 4-pixel padding\n",
        "    transforms.ToTensor(),                     # Convert image to [0, 1] tensor\n",
        "    transforms.Normalize((0.5, 0.5, 0.5),       # Normalize each channel to [-1, 1]\n",
        "                         (0.5, 0.5, 0.5))\n",
        "])\n",
        "\n",
        "# Matching Normalization transformation for val and test sets\n",
        "transform_test = transforms.Compose([\n",
        "    transforms.ToTensor(),\n",
        "    transforms.Normalize((0.5, 0.5, 0.5),\n",
        "                         (0.5, 0.5, 0.5))\n",
        "])\n"
      ],
      "metadata": {
        "id": "4KZ81C14xrEx"
      },
      "id": "4KZ81C14xrEx",
      "execution_count": 77,
      "outputs": []
    },
    {
      "cell_type": "code",
      "source": [
        "# Apply transforms to datasets\n",
        "train_dataset = CIFAR10(root='./data', train=True, download=True)\n",
        "test_dataset = CIFAR10(root='./data', train=False, download=True, transform=transform_test)\n",
        "\n",
        "# Split into training and validation sets (e.g., 45k train / 5k val)\n",
        "train_set, val_set = random_split(train_dataset, [45000, 5000], generator=generator)\n",
        "\n",
        "# Manually apply transforms to train_set and val_set transform\n",
        "train_set.dataset.transform = transform_train\n",
        "val_set.dataset.transform = transform_test\n",
        "\n",
        "# Increased batch size and made chnages to use GPU resources for training\n",
        "batch_size = 512\n",
        "\n",
        "# Create data loaders\n",
        "train_loader = DataLoader(train_set, batch_size=batch_size, shuffle=True)\n",
        "val_loader = DataLoader(val_set, batch_size=batch_size)\n",
        "test_loader = DataLoader(test_dataset, batch_size=batch_size)"
      ],
      "metadata": {
        "id": "hh_YwR2v5Wot"
      },
      "id": "hh_YwR2v5Wot",
      "execution_count": 78,
      "outputs": []
    },
    {
      "cell_type": "code",
      "source": [
        "def evaluate_model(model, data_loader, criterion):\n",
        "    \"\"\"\n",
        "    Evaluates model loss and accuracy on a dataset.\n",
        "    \"\"\"\n",
        "    model.eval()\n",
        "    total_loss = 0.0\n",
        "    correct = 0\n",
        "    total = 0\n",
        "\n",
        "    device = next(model.parameters()).device  # Automatically detect if model is on CPU or GPU\n",
        "\n",
        "    with torch.no_grad():\n",
        "        for images, labels in data_loader:\n",
        "            images = images.to(device)\n",
        "            labels = labels.to(device)\n",
        "\n",
        "            outputs = model(images)\n",
        "            loss = criterion(outputs, labels)\n",
        "\n",
        "            total_loss += loss.item() * images.size(0)\n",
        "            _, predicted = torch.max(outputs, 1)\n",
        "            correct += (predicted == labels).sum().item()\n",
        "            total += labels.size(0)\n",
        "\n",
        "    avg_loss = total_loss / total\n",
        "    accuracy = correct / total\n",
        "    return avg_loss, accuracy\n"
      ],
      "metadata": {
        "id": "pUkT6IrNXLjM"
      },
      "id": "pUkT6IrNXLjM",
      "execution_count": 79,
      "outputs": []
    },
    {
      "cell_type": "markdown",
      "source": [
        "#### Build CNN Architecture\n",
        "\n",
        "- The network consists of two convolutional layers followed by at least one fully\n",
        "connected layer at the end.\n",
        "  - You may use ReLU activation for non-linearity and max pooling to reduce spatial\n",
        "dimensions.\n",
        "  - Feel free to experiment with kernel sizes, strides, and padding to improve performance.\n",
        "\n",
        " -  Implemented the following optimization techniques learned in class:\n",
        "    * Batch Normalization (for stable and faster training)\n",
        "    * Dropout (to prevent overfitting)\n",
        "    * Data Augmentation (to increase dataset diversity)\n",
        "  - You may also experiment with different learning rates, optimizers, or regularization\n",
        "techniques to achieve higher accuracy."
      ],
      "metadata": {
        "id": "7RgBj4KgyuUA"
      },
      "id": "7RgBj4KgyuUA"
    },
    {
      "cell_type": "code",
      "source": [
        "class CNN(nn.Module):\n",
        "    \"\"\"\n",
        "    A simple Convolutional Neural Network (CNN) for image classification on CIFAR-10.\n",
        "\n",
        "    Architecture:\n",
        "    - Two convolutional layers with ReLU activation and max pooling\n",
        "    - Batch normalization after each convolution (optional)\n",
        "    - One fully connected hidden layer with dropout\n",
        "    - Output layer with logits for 10 classes\n",
        "    \"\"\"\n",
        "\n",
        "    def __init__(self):\n",
        "        \"\"\"\n",
        "        Initializes the CNN architecture.\n",
        "        \"\"\"\n",
        "        super().__init__()\n",
        "\n",
        "        # Convolutional layers block\n",
        "        self.conv_layers = nn.Sequential(\n",
        "            nn.Conv2d(3, 32, kernel_size=3, padding=1),   # Conv Layer 1: input channels=3 (RGB), output=32\n",
        "            nn.BatchNorm2d(32),                           # Normalize across batch\n",
        "            nn.ReLU(),                                    # ReLU activation\n",
        "            nn.MaxPool2d(2),                              # Downsample by factor of 2 (output: 16x16)\n",
        "\n",
        "            nn.Conv2d(32, 64, kernel_size=3, padding=1),  # Conv Layer 2: input=32, output=64\n",
        "            nn.BatchNorm2d(64),                           # Normalize\n",
        "            nn.ReLU(),                                    # ReLU activation\n",
        "            nn.MaxPool2d(2),                               # Downsample by factor of 2 (output: 8x8)\n",
        "\n",
        "\n",
        "            nn.Conv2d(64, 128, kernel_size=3, padding=1),  # Conv Layer 3: input=64, output=128\n",
        "            nn.BatchNorm2d(128),                           # Normalize\n",
        "            nn.ReLU(),                                    # ReLU activation\n",
        "            nn.MaxPool2d(2)                               # Downsample by factor of 2 (output: 4x4)\n",
        "\n",
        "        )\n",
        "\n",
        "        # Fully connected layers block\n",
        "        self.fc_layers = nn.Sequential(\n",
        "            nn.Dropout(0.5),                              # Dropout for regularization\n",
        "            nn.Linear(128 * 4 * 4, 512),                   # Flattened input: 128 channels * 4x4 feature map\n",
        "            nn.ReLU(),                                    # ReLU activation\n",
        "            nn.Linear(512, 10)                            # Final output layer: 10 class scores\n",
        "        )\n",
        "\n",
        "    def forward(self, x):\n",
        "        \"\"\"\n",
        "        Defines the forward pass of the CNN.\n",
        "\n",
        "        Args:\n",
        "            x (Tensor): Input image tensor of shape (batch_size, 3, 32, 32)\n",
        "\n",
        "        Returns:\n",
        "            Tensor: Output logits of shape (batch_size, 10)\n",
        "        \"\"\"\n",
        "        x = self.conv_layers(x)                   # Pass through conv + pool block\n",
        "        x = x.view(x.size(0), -1)                 # Flatten to (batch_size, 64*8*8) for fully connected layer\n",
        "        return self.fc_layers(x)                  # Pass through fully connected layers\n"
      ],
      "metadata": {
        "id": "nMlwbyZDyt7B"
      },
      "id": "nMlwbyZDyt7B",
      "execution_count": 80,
      "outputs": []
    },
    {
      "cell_type": "markdown",
      "source": [
        "### Initialize Model and Train"
      ],
      "metadata": {
        "id": "u3pYykiB1nZB"
      },
      "id": "u3pYykiB1nZB"
    },
    {
      "cell_type": "code",
      "source": [
        "# Initialize the model, loss function, and optimizer\n",
        "model = CNN().to(device)\n",
        "criterion = nn.CrossEntropyLoss()  # Softmax + cross-entropy\n",
        "optimizer = optim.Adam(model.parameters(), lr=1e-3, weight_decay=1e-4)  # L2 regularization\n",
        "\n",
        "scaler = GradScaler('cuda')"
      ],
      "metadata": {
        "id": "PrUKFnTN1y37"
      },
      "id": "PrUKFnTN1y37",
      "execution_count": 88,
      "outputs": []
    },
    {
      "cell_type": "markdown",
      "source": [
        "Training Loop"
      ],
      "metadata": {
        "id": "z559Fk7h3iRG"
      },
      "id": "z559Fk7h3iRG"
    },
    {
      "cell_type": "code",
      "source": [
        "num_epochs = 30\n",
        "\n",
        "train_losses = []\n",
        "train_accuracies = []\n",
        "val_losses = []\n",
        "val_accuracies = []\n",
        "\n",
        "\n",
        "for epoch in range(num_epochs):\n",
        "    model.train()\n",
        "    running_loss = 0.0\n",
        "    correct = 0\n",
        "    total = 0\n",
        "\n",
        "    for images, labels in train_loader:\n",
        "        images, labels = images.to(device), labels.to(device)\n",
        "        optimizer.zero_grad()\n",
        "\n",
        "        with autocast(device_type='cuda'): # Enable mixed precision\n",
        "            outputs = model(images)\n",
        "            loss = criterion(outputs, labels)\n",
        "\n",
        "        # Backpropagation with scaling\n",
        "        scaler.scale(loss).backward()\n",
        "        scaler.step(optimizer)\n",
        "        scaler.update()\n",
        "\n",
        "        running_loss += loss.item() * images.size(0)\n",
        "        _, preds = torch.max(outputs, 1)\n",
        "        correct += (preds == labels).sum().item()\n",
        "        total += labels.size(0)\n",
        "\n",
        "    # Training stats\n",
        "    avg_train_loss = running_loss / len(train_loader.dataset)\n",
        "    train_accuracy = correct / total\n",
        "    train_losses.append(avg_train_loss)\n",
        "    train_accuracies.append(train_accuracy)\n",
        "\n",
        "    # Validation evaluation\n",
        "    val_loss, val_accuracy = evaluate_model(model, val_loader, criterion)\n",
        "    val_losses.append(val_loss)\n",
        "    val_accuracies.append(val_accuracy)\n",
        "\n",
        "    scheduler.step(val_loss)\n",
        "\n",
        "\n",
        "    # Print progress\n",
        "    print(f\"Epoch {epoch+1}/{num_epochs} | \"\n",
        "          f\"Train Loss: {avg_train_loss:.4f}, Train Acc: {train_accuracy:.4f} | \"\n",
        "          f\"Val Loss: {val_loss:.4f}, Val Acc: {val_accuracy:.4f}\")\n",
        "\n",
        "\n"
      ],
      "metadata": {
        "id": "56T14Ei83ixC",
        "outputId": "035a6ad1-cf0f-4f9e-fc5f-b3279959441e",
        "colab": {
          "base_uri": "https://localhost:8080/"
        }
      },
      "id": "56T14Ei83ixC",
      "execution_count": 89,
      "outputs": [
        {
          "output_type": "stream",
          "name": "stdout",
          "text": [
            "Epoch 1/30 | Train Loss: 1.5349, Train Acc: 0.4496 | Val Loss: 1.1094, Val Acc: 0.6038\n",
            "Epoch 2/30 | Train Loss: 1.0845, Train Acc: 0.6115 | Val Loss: 0.9427, Val Acc: 0.6642\n",
            "Epoch 3/30 | Train Loss: 0.9274, Train Acc: 0.6698 | Val Loss: 0.8664, Val Acc: 0.6970\n",
            "Epoch 4/30 | Train Loss: 0.8470, Train Acc: 0.6996 | Val Loss: 0.8635, Val Acc: 0.7008\n",
            "Epoch 5/30 | Train Loss: 0.7872, Train Acc: 0.7193 | Val Loss: 0.7279, Val Acc: 0.7444\n",
            "Epoch 6/30 | Train Loss: 0.7337, Train Acc: 0.7395 | Val Loss: 0.7568, Val Acc: 0.7288\n",
            "Epoch 7/30 | Train Loss: 0.6921, Train Acc: 0.7544 | Val Loss: 0.7009, Val Acc: 0.7566\n",
            "Epoch 8/30 | Train Loss: 0.6492, Train Acc: 0.7698 | Val Loss: 0.6885, Val Acc: 0.7666\n",
            "Epoch 9/30 | Train Loss: 0.6197, Train Acc: 0.7811 | Val Loss: 0.6432, Val Acc: 0.7752\n",
            "Epoch 10/30 | Train Loss: 0.5979, Train Acc: 0.7877 | Val Loss: 0.6617, Val Acc: 0.7644\n",
            "Epoch 11/30 | Train Loss: 0.5607, Train Acc: 0.8021 | Val Loss: 0.6877, Val Acc: 0.7686\n",
            "Epoch 12/30 | Train Loss: 0.5374, Train Acc: 0.8098 | Val Loss: 0.6032, Val Acc: 0.7890\n",
            "Epoch 13/30 | Train Loss: 0.5177, Train Acc: 0.8141 | Val Loss: 0.6556, Val Acc: 0.7754\n",
            "Epoch 14/30 | Train Loss: 0.4895, Train Acc: 0.8271 | Val Loss: 0.6127, Val Acc: 0.7928\n",
            "Epoch 15/30 | Train Loss: 0.4683, Train Acc: 0.8322 | Val Loss: 0.6185, Val Acc: 0.7890\n",
            "Epoch 16/30 | Train Loss: 0.4554, Train Acc: 0.8369 | Val Loss: 0.6000, Val Acc: 0.7996\n",
            "Epoch 17/30 | Train Loss: 0.4353, Train Acc: 0.8446 | Val Loss: 0.6100, Val Acc: 0.7930\n",
            "Epoch 18/30 | Train Loss: 0.4159, Train Acc: 0.8525 | Val Loss: 0.6073, Val Acc: 0.7904\n",
            "Epoch 19/30 | Train Loss: 0.3967, Train Acc: 0.8582 | Val Loss: 0.6365, Val Acc: 0.7874\n",
            "Epoch 20/30 | Train Loss: 0.3807, Train Acc: 0.8640 | Val Loss: 0.5994, Val Acc: 0.7966\n",
            "Epoch 21/30 | Train Loss: 0.3680, Train Acc: 0.8685 | Val Loss: 0.5851, Val Acc: 0.7974\n",
            "Epoch 22/30 | Train Loss: 0.3513, Train Acc: 0.8749 | Val Loss: 0.6059, Val Acc: 0.7906\n",
            "Epoch 23/30 | Train Loss: 0.3380, Train Acc: 0.8779 | Val Loss: 0.5818, Val Acc: 0.8026\n",
            "Epoch 24/30 | Train Loss: 0.3271, Train Acc: 0.8830 | Val Loss: 0.6681, Val Acc: 0.7812\n",
            "Epoch 25/30 | Train Loss: 0.3188, Train Acc: 0.8856 | Val Loss: 0.5983, Val Acc: 0.8044\n",
            "Epoch 26/30 | Train Loss: 0.3022, Train Acc: 0.8922 | Val Loss: 0.5807, Val Acc: 0.8052\n",
            "Epoch 27/30 | Train Loss: 0.2907, Train Acc: 0.8949 | Val Loss: 0.5975, Val Acc: 0.8062\n",
            "Epoch 28/30 | Train Loss: 0.2802, Train Acc: 0.8991 | Val Loss: 0.5804, Val Acc: 0.8072\n",
            "Epoch 29/30 | Train Loss: 0.2703, Train Acc: 0.9025 | Val Loss: 0.6217, Val Acc: 0.8060\n",
            "Epoch 30/30 | Train Loss: 0.2637, Train Acc: 0.9053 | Val Loss: 0.6552, Val Acc: 0.7976\n"
          ]
        }
      ]
    },
    {
      "cell_type": "markdown",
      "source": [
        "Plot Training Loss and Training and Validation Accuracy"
      ],
      "metadata": {
        "id": "4973LYJK7TL2"
      },
      "id": "4973LYJK7TL2"
    },
    {
      "cell_type": "code",
      "source": [
        "plt.figure(figsize=(12, 5))\n",
        "\n",
        "# Plot Training Loss\n",
        "plt.subplot(1, 2, 1)\n",
        "plt.plot(train_losses, label='Training Loss', color='blue')\n",
        "plt.xlabel('Epoch')\n",
        "plt.ylabel('Loss')\n",
        "plt.title('Training Loss')\n",
        "plt.grid(True)\n",
        "plt.legend()\n",
        "\n",
        "# Plot Accuracy\n",
        "plt.subplot(1, 2, 2)\n",
        "plt.plot(train_accuracies, label='Train Accuracy', color='green')\n",
        "plt.plot(val_accuracies, label='Validation Accuracy', color='orange')\n",
        "plt.xlabel('Epoch')\n",
        "plt.ylabel('Accuracy')\n",
        "plt.title('Accuracy Over Epochs')\n",
        "plt.grid(True)\n",
        "plt.legend()\n",
        "\n",
        "plt.tight_layout()\n",
        "plt.show()"
      ],
      "metadata": {
        "id": "DFsKxgHL7oef",
        "outputId": "948fe79a-a6ca-46a0-e1de-5dfbd83b96a9",
        "colab": {
          "base_uri": "https://localhost:8080/",
          "height": 276
        }
      },
      "id": "DFsKxgHL7oef",
      "execution_count": 90,
      "outputs": [
        {
          "output_type": "display_data",
          "data": {
            "text/plain": [
              "<Figure size 1200x500 with 2 Axes>"
            ],
            "image/png": "[encoded data removed]"
          },
          "metadata": {}
        }
      ]
    },
    {
      "cell_type": "code",
      "source": [],
      "metadata": {
        "id": "atJ2Pi5Glcqw"
      },
      "id": "atJ2Pi5Glcqw",
      "execution_count": null,
      "outputs": []
    }
  ],
  "metadata": {
    "kernelspec": {
      "display_name": "Python 3",
      "name": "python3"
    },
    "language_info": {
      "codemirror_mode": {
        "name": "ipython",
        "version": 3
      },
      "file_extension": ".py",
      "mimetype": "text/x-python",
      "name": "python",
      "nbconvert_exporter": "python",
      "pygments_lexer": "ipython3",
      "version": "3.11.13"
    },
    "colab": {
      "provenance": [],
      "machine_shape": "hm",
      "gpuType": "A100"
    },
    "accelerator": "GPU"
  },
  "nbformat": 4,
  "nbformat_minor": 5
}