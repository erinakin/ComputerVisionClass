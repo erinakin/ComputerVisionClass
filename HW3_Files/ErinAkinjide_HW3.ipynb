{
  "cells": [
    {
      "cell_type": "markdown",
      "id": "7478671d",
      "metadata": {
        "id": "7478671d"
      },
      "source": [
        "# ECES 681 - Computer Vision\n",
        "\n",
        "## Homework 3\n",
        "\n",
        "### Problem 1:\n",
        "\n",
        "\n",
        "\n",
        "Print out training losses and train and val set\n",
        "accuracy as it trains. After training concludes, also make a plot of the training losses as well as the training\n",
        "and validation-set accuracy of the model during training."
      ]
    },
    {
      "cell_type": "code",
      "execution_count": 8,
      "id": "da12f30d",
      "metadata": {
        "id": "da12f30d"
      },
      "outputs": [],
      "source": [
        "import torch\n",
        "import numpy as np\n",
        "import matplotlib.pyplot as plt\n",
        "\n",
        "import torch.nn as nn\n",
        "import torch.optim as optim\n",
        "import torchvision.transforms as transforms\n",
        "from torchvision.datasets import CIFAR10\n",
        "from torch.utils.data import DataLoader, random_split\n"
      ]
    },
    {
      "cell_type": "markdown",
      "id": "d27de67b",
      "metadata": {
        "id": "d27de67b"
      },
      "source": [
        "### Load CIFAR-10 Dataset\n",
        "Load CIFAR-10 dataset for image classification. This dataset consists of 32 × 32 RGB images of 10 different categories."
      ]
    },
    {
      "cell_type": "code",
      "execution_count": 16,
      "id": "8f8f1504",
      "metadata": {
        "id": "8f8f1504"
      },
      "outputs": [],
      "source": [
        "# Load the CIFAR10 dataset\n",
        "transform = transforms.ToTensor()\n",
        "\n",
        "train_dataset = CIFAR10(root='./data', train=True, download=True, transform=transform)\n",
        "test_dataset = CIFAR10(root='./data', train=False, download=True, transform=transform)\n",
        "\n",
        "# Split the training dataset into training and validation sets\n",
        "generator = torch.Generator().manual_seed(42)\n",
        "train_set, val_set = random_split(train_dataset, [40000, 10000],generator=generator)\n",
        "\n",
        "# Dataloaders\n",
        "train_loader = DataLoader(train_set, batch_size=64, shuffle=True)\n",
        "val_loader = DataLoader(val_set, batch_size=64, shuffle=False)\n",
        "test_loader = DataLoader(test_dataset, batch_size=64, shuffle=False)"
      ]
    },
    {
      "cell_type": "markdown",
      "id": "70f48c8d",
      "metadata": {
        "id": "70f48c8d"
      },
      "source": [
        "### Define Network Architecture\n",
        "This network has two FC layers with one ReLU activation layer: input -> FC layer -> ReLU layer -> FC\n",
        "layer -> scores. Write two_layer_net.ipynb function\n"
      ]
    },
    {
      "cell_type": "code",
      "execution_count": 17,
      "id": "60bd620f",
      "metadata": {
        "id": "60bd620f"
      },
      "outputs": [],
      "source": [
        "#  Define Network Architecture\n",
        "class TwoLayerNet(nn.Module):\n",
        "    \"\"\"A two-layer fully connected neural network.\"\"\"\n",
        "    def __init__(self, input_dim=3072, hidden_dim=100, num_classes=10):\n",
        "        \"\"\"\n",
        "        Args:\n",
        "            input_dim (int): Size of the input vector (default 3072 for CIFAR-10).\n",
        "            hidden_dim (int): Number of neurons in the hidden layer.\n",
        "            num_classes (int): Number of output classes.\n",
        "        \"\"\"\n",
        "        super().__init__()\n",
        "        # Fully connected layer 1\n",
        "        self.fc1 = nn.Linear(input_dim, hidden_dim)\n",
        "        # ReLU activated Layer\n",
        "        self.relu = nn.ReLU()\n",
        "        # Fully connected layer 2\n",
        "        self.fc2 = nn.Linear(hidden_dim, num_classes)\n",
        "\n",
        "    def forward(self, x):\n",
        "         \"\"\"\n",
        "        Defines the forward pass through the network.\n",
        "\n",
        "        Args:\n",
        "            x (Tensor): Input tensor of shape (batch_size, 3, 32, 32)\n",
        "\n",
        "        Returns:\n",
        "            Tensor: Output scores of shape (batch_size, num_classes)\n",
        "        \"\"\"\n",
        "        # Flatten the tensor\n",
        "         x = x.view(x.size(0), -1)\n",
        "         x = self.fc1(x)\n",
        "         # Apply ReLU activation\n",
        "         x = self.relu(x)\n",
        "         return self.fc2(x)"
      ]
    },
    {
      "cell_type": "code",
      "execution_count": 18,
      "id": "b9f33cec",
      "metadata": {
        "id": "b9f33cec"
      },
      "outputs": [],
      "source": [
        "# Define a function to handle calculating the accuracy and loss of the model\n",
        "def evaluate_model(model, data_loader, criterion):\n",
        "    \"\"\"\n",
        "    Evaluates the model's average loss and accuracy on a dataset.\n",
        "\n",
        "    Args:\n",
        "        model (nn.Module): The trained model to evaluate.\n",
        "        data_loader (DataLoader): DataLoader for validation or test set.\n",
        "        criterion (nn.Module): Loss function used (e.g., CrossEntropyLoss).\n",
        "\n",
        "    Returns:\n",
        "        tuple: (average_loss, accuracy) for the dataset\n",
        "    \"\"\"\n",
        "    model.eval() # Set the model to evaluation mode\n",
        "    running_loss = 0.0\n",
        "    correct = 0\n",
        "    total = 0\n",
        "\n",
        "    with torch.no_grad(): # Disable gradient computation for speed\n",
        "        for images, labels in data_loader: # Loop over validation or test data in batches\n",
        "            outputs = model(images) # Perform forward pass through model for predicted scores\n",
        "            loss = criterion(outputs, labels)\n",
        "            running_loss += loss.item()\n",
        "\n",
        "            _, predicted = torch.max(outputs, 1) #  Choose index of highest score for each sample (predicted class)\n",
        "            total += labels.size(0)\n",
        "            correct += (predicted == labels).sum().item()\n",
        "\n",
        "    avg_loss = running_loss / len(data_loader)\n",
        "    accuracy = correct / total\n",
        "    return avg_loss, accuracy\n"
      ]
    },
    {
      "cell_type": "markdown",
      "id": "64bbc0bb",
      "metadata": {
        "id": "64bbc0bb"
      },
      "source": [
        "### Train the Two-Layer Network with Loss and L2 Regularization\n",
        "Initialize the two-layer network and the optimizer using stochastic gradient descent, implement a training loop for training.\n",
        "\n",
        "\n",
        "The loss should be the sum of two terms:  \n",
        "• A data loss term, which is the softmax loss between the model’s predicted scores and the ground-truth\n",
        "image labels.  \n",
        "• A regularization loss term, which penalizes the L2 norm of the weight matrices of all the fully-connected\n",
        "layers of the model. You should not apply L2 regularization to the biases."
      ]
    },
    {
      "cell_type": "code",
      "execution_count": 19,
      "id": "b85261e3",
      "metadata": {
        "id": "b85261e3"
      },
      "outputs": [],
      "source": [
        "# Initialize the model, loss function, and optimizer\n",
        "model = TwoLayerNet(input_dim=32*32*3, hidden_dim=100, num_classes=10)\n",
        "\n",
        "learning_rate = 0.001\n",
        "# weight_decay parameter in torch automatically applies L2 regularization\n",
        "# to weights only\n",
        "weight_decay = 0.001\n",
        "\n",
        "# Cross entropy loss deals with softmax loss\n",
        "criterion = nn.CrossEntropyLoss()\n",
        "optimizer = optim.SGD(model.parameters(), lr=learning_rate, weight_decay=weight_decay)"
      ]
    },
    {
      "cell_type": "code",
      "execution_count": 20,
      "id": "690e2d93",
      "metadata": {
        "colab": {
          "base_uri": "https://localhost:8080/"
        },
        "id": "690e2d93",
        "outputId": "deae1a9f-8835-4b40-be0f-63a65d36db13"
      },
      "outputs": [
        {
          "output_type": "stream",
          "name": "stdout",
          "text": [
            "Epoch 1/10 | Train Loss: 2.0455, Train Acc: 0.2705 | Val Loss: 1.9133, Val Acc: 0.3378\n",
            "Epoch 2/10 | Train Loss: 1.8712, Train Acc: 0.3434 | Val Loss: 1.8259, Val Acc: 0.3549\n",
            "Epoch 3/10 | Train Loss: 1.8071, Train Acc: 0.3623 | Val Loss: 1.7753, Val Acc: 0.3761\n",
            "Epoch 4/10 | Train Loss: 1.7611, Train Acc: 0.3815 | Val Loss: 1.7363, Val Acc: 0.3929\n",
            "Epoch 5/10 | Train Loss: 1.7247, Train Acc: 0.3952 | Val Loss: 1.7053, Val Acc: 0.4017\n",
            "Epoch 6/10 | Train Loss: 1.6934, Train Acc: 0.4072 | Val Loss: 1.6794, Val Acc: 0.4067\n",
            "Epoch 7/10 | Train Loss: 1.6661, Train Acc: 0.4173 | Val Loss: 1.6754, Val Acc: 0.4070\n",
            "Epoch 8/10 | Train Loss: 1.6415, Train Acc: 0.4249 | Val Loss: 1.6368, Val Acc: 0.4255\n",
            "Epoch 9/10 | Train Loss: 1.6191, Train Acc: 0.4346 | Val Loss: 1.6282, Val Acc: 0.4271\n",
            "Epoch 10/10 | Train Loss: 1.6009, Train Acc: 0.4414 | Val Loss: 1.6078, Val Acc: 0.4391\n"
          ]
        }
      ],
      "source": [
        "# Training configuration\n",
        "num_epochs = 10\n",
        "train_losses = []\n",
        "train_accuracies = []\n",
        "val_losses = []\n",
        "val_accuracies = []\n",
        "\n",
        "# Training loop\n",
        "for epoch in range(num_epochs):\n",
        "    model.train()  # Enable training mode\n",
        "    running_loss = 0.0\n",
        "    correct = 0\n",
        "    total = 0\n",
        "\n",
        "    for images, labels in train_loader:\n",
        "        optimizer.zero_grad()             # Clear previous gradients\n",
        "        outputs = model(images)           # Forward pass\n",
        "        loss = criterion(outputs, labels) # Compute loss\n",
        "        loss.backward()                   # Backpropagation\n",
        "        optimizer.step()                  # Update weights\n",
        "\n",
        "        # Accumulate training loss\n",
        "        running_loss += loss.item() * images.size(0)\n",
        "\n",
        "        # Compute training accuracy on the fly\n",
        "        _, predicted = torch.max(outputs, 1)\n",
        "        total += labels.size(0)\n",
        "        correct += (predicted == labels).sum().item()\n",
        "\n",
        "    # Average training loss and accuracy for this epoch\n",
        "    avg_train_loss = running_loss / len(train_loader.dataset)\n",
        "    train_accuracy = correct / total\n",
        "\n",
        "    train_losses.append(avg_train_loss)\n",
        "    train_accuracies.append(train_accuracy)\n",
        "\n",
        "    # Evaluate on validation set\n",
        "    val_loss, val_acc = evaluate_model(model, val_loader, criterion)\n",
        "    val_losses.append(val_loss)\n",
        "    val_accuracies.append(val_acc)\n",
        "\n",
        "    # Print training progress\n",
        "    print(f\"Epoch {epoch+1}/{num_epochs} | \"\n",
        "          f\"Train Loss: {avg_train_loss:.4f}, Train Acc: {train_accuracy:.4f} | \"\n",
        "          f\"Val Loss: {val_loss:.4f}, Val Acc: {val_acc:.4f}\")\n"
      ]
    },
    {
      "cell_type": "markdown",
      "id": "d09d4d9f",
      "metadata": {
        "id": "d09d4d9f"
      },
      "source": [
        "### Plot the Loss and Accuracy"
      ]
    },
    {
      "cell_type": "code",
      "execution_count": 21,
      "id": "95b86a9a",
      "metadata": {
        "colab": {
          "base_uri": "https://localhost:8080/",
          "height": 293
        },
        "id": "95b86a9a",
        "outputId": "223a7094-0ee6-4fb9-e938-2d9bae632f2b"
      },
      "outputs": [
        {
          "output_type": "display_data",
          "data": {
            "text/plain": [
              "<Figure size 1200x500 with 2 Axes>"
            ],
            "image/png": "[encoded data removed]"
          },
          "metadata": {}
        }
      ],
      "source": [
        "import matplotlib.pyplot as plt\n",
        "\n",
        "plt.figure(figsize=(12, 5))\n",
        "\n",
        "# Plot training loss\n",
        "plt.subplot(1, 2, 1)\n",
        "plt.plot(train_losses, label='Training Loss', color='blue')\n",
        "plt.xlabel(\"Epoch\")\n",
        "plt.ylabel(\"Loss\")\n",
        "plt.title(\"Training Loss\")\n",
        "plt.grid(True)\n",
        "plt.legend()\n",
        "\n",
        "# Plot training and validation accuracy\n",
        "plt.subplot(1, 2, 2)\n",
        "plt.plot(train_accuracies, label='Train Accuracy', color='green')\n",
        "plt.plot(val_accuracies, label='Validation Accuracy', color='orange')\n",
        "plt.xlabel(\"Epoch\")\n",
        "plt.ylabel(\"Accuracy\")\n",
        "plt.title(\"Accuracy\")\n",
        "plt.grid(True)\n",
        "plt.legend()\n",
        "\n",
        "plt.tight_layout()\n",
        "plt.show()\n"
      ]
    },
    {
      "cell_type": "markdown",
      "source": [
        "Best Model Hyperparameters:\n",
        "\n",
        "Validation Accuracy: 43.91%\n",
        "\n",
        "- num_train: 40,000 images\n",
        "- hidden_dim: 100\n",
        "- batch_size: 64\n",
        "- num_epochs: 10  \n",
        "- learning_rate: 0.001\n",
        "- reg: 0.001"
      ],
      "metadata": {
        "id": "Vo-DiAXEtRPx"
      },
      "id": "Vo-DiAXEtRPx"
    },
    {
      "cell_type": "markdown",
      "id": "c623dc41",
      "metadata": {
        "id": "c623dc41"
      },
      "source": [
        "You will need to tune the hyperparameters of your model in order to improve it. Try changing the\n",
        "hyperparameters of the model. You can consider changing any of the following hyperparameters:  \n",
        "\n",
        "- num_train: The number of images to use for training\n",
        "- hidden_dim: The width of the hidden layer of the model\n",
        "- batch_size: The number of examples to use in each minibatch during SGD\n",
        "- num_epochs: How long to train. An epoch is a single pass through the training set.  \n",
        "- learning_rate: The learning rate to use for SGD  \n",
        "- reg: The strength of the L2 regularization term  \n",
        "\n",
        "You should tune the hyperparameters and train a model that achieves at least 40% on the validation\n",
        "set. In your homework submission, include the loss / accuracy plot for your best model. After tuning\n",
        "your model, run your best model exactly once on the test set.  \n",
        "Your model should not take an excessive amount of time to train. For reference, our hyperparameter settings\n",
        "achieve 42% accuracy on the validation set in less than 1 minute of training on a desktop with an Intel i9\n",
        "CPU."
      ]
    },
    {
      "cell_type": "markdown",
      "id": "f3b5f926",
      "metadata": {
        "id": "f3b5f926"
      },
      "source": []
    }
  ],
  "metadata": {
    "kernelspec": {
      "display_name": "Python 3",
      "name": "python3"
    },
    "language_info": {
      "codemirror_mode": {
        "name": "ipython",
        "version": 3
      },
      "file_extension": ".py",
      "mimetype": "text/x-python",
      "name": "python",
      "nbconvert_exporter": "python",
      "pygments_lexer": "ipython3",
      "version": "3.11.13"
    },
    "colab": {
      "provenance": [],
      "machine_shape": "hm",
      "gpuType": "L4"
    },
    "accelerator": "GPU"
  },
  "nbformat": 4,
  "nbformat_minor": 5
}