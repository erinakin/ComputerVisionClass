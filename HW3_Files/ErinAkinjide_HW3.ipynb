{
  "cells": [
    {
      "cell_type": "markdown",
      "id": "7478671d",
      "metadata": {
        "id": "7478671d"
      },
      "source": [
        "# ECES 681 - Computer Vision\n",
        "\n",
        "## Homework 3\n",
        "\n",
        "### Problem 1:\n",
        "\n",
        "\n",
        "\n",
        "Print out training losses and train and val set\n",
        "accuracy as it trains. After training concludes, also make a plot of the training losses as well as the training\n",
        "and validation-set accuracy of the model during training."
      ]
    },
    {
      "cell_type": "code",
      "execution_count": 1,
      "id": "da12f30d",
      "metadata": {
        "id": "da12f30d"
      },
      "outputs": [],
      "source": [
        "import torch\n",
        "import numpy as np\n",
        "import matplotlib.pyplot as plt\n",
        "import random\n",
        "\n",
        "import torch.nn as nn\n",
        "import torch.optim as optim\n",
        "from torch.optim.lr_scheduler import ReduceLROnPlateau\n",
        "import torchvision.transforms as transforms\n",
        "from torchvision.datasets import CIFAR10\n",
        "from torch.utils.data import DataLoader, random_split\n",
        "from torch.amp import autocast, GradScaler\n"
      ]
    },
    {
      "cell_type": "code",
      "source": [
        "device = torch.device(\"cuda\" if torch.cuda.is_available() else \"cpu\")\n",
        "print(\"Using device:\", device)"
      ],
      "metadata": {
        "colab": {
          "base_uri": "https://localhost:8080/"
        },
        "id": "i52Sag7QWGQx",
        "outputId": "569784be-762e-4724-ed48-545fe319c53d"
      },
      "id": "i52Sag7QWGQx",
      "execution_count": 2,
      "outputs": [
        {
          "output_type": "stream",
          "name": "stdout",
          "text": [
            "Using device: cuda\n"
          ]
        }
      ]
    },
    {
      "cell_type": "markdown",
      "id": "d27de67b",
      "metadata": {
        "id": "d27de67b"
      },
      "source": [
        "### Load CIFAR-10 Dataset\n",
        "Load CIFAR-10 dataset for image classification. This dataset consists of 32 × 32 RGB images of 10 different categories."
      ]
    },
    {
      "cell_type": "code",
      "execution_count": 11,
      "id": "8f8f1504",
      "metadata": {
        "id": "8f8f1504"
      },
      "outputs": [],
      "source": [
        "# Load the CIFAR10 dataset\n",
        "transform = transforms.ToTensor()\n",
        "\n",
        "train_dataset = CIFAR10(root='./data', train=True, download=True, transform=transform)\n",
        "test_dataset = CIFAR10(root='./data', train=False, download=True, transform=transform)\n",
        "\n",
        "# Split the training dataset into training and validation sets\n",
        "generator = torch.Generator().manual_seed(42)\n",
        "train_set, val_set = random_split(train_dataset, [40000, 10000],generator=generator)\n",
        "\n",
        "# Dataloaders\n",
        "train_loader = DataLoader(train_set, batch_size=64, shuffle=True, generator=generator)\n",
        "val_loader = DataLoader(val_set, batch_size=64, shuffle=False)\n",
        "test_loader = DataLoader(test_dataset, batch_size=64, shuffle=False)"
      ]
    },
    {
      "cell_type": "markdown",
      "id": "70f48c8d",
      "metadata": {
        "id": "70f48c8d"
      },
      "source": [
        "### Define Network Architecture\n",
        "This network has two FC layers with one ReLU activation layer: input -> FC layer -> ReLU layer -> FC\n",
        "layer -> scores. Write two_layer_net.ipynb function\n"
      ]
    },
    {
      "cell_type": "code",
      "execution_count": 12,
      "id": "60bd620f",
      "metadata": {
        "id": "60bd620f"
      },
      "outputs": [],
      "source": [
        "#  Define Network Architecture\n",
        "class TwoLayerNet(nn.Module):\n",
        "    \"\"\"A two-layer fully connected neural network.\"\"\"\n",
        "    def __init__(self, input_dim=3072, hidden_dim=100, num_classes=10):\n",
        "        \"\"\"\n",
        "        Args:\n",
        "            input_dim (int): Size of the input vector (default 3072 for CIFAR-10).\n",
        "            hidden_dim (int): Number of neurons in the hidden layer.\n",
        "            num_classes (int): Number of output classes.\n",
        "        \"\"\"\n",
        "        super().__init__()\n",
        "        # Fully connected layer 1\n",
        "        self.fc1 = nn.Linear(input_dim, hidden_dim)\n",
        "        # ReLU activated Layer\n",
        "        self.relu = nn.ReLU()\n",
        "        # Fully connected layer 2\n",
        "        self.fc2 = nn.Linear(hidden_dim, num_classes)\n",
        "\n",
        "    def forward(self, x):\n",
        "         \"\"\"\n",
        "        Defines the forward pass through the network.\n",
        "\n",
        "        Args:\n",
        "            x (Tensor): Input tensor of shape (batch_size, 3, 32, 32)\n",
        "\n",
        "        Returns:\n",
        "            Tensor: Output scores of shape (batch_size, num_classes)\n",
        "        \"\"\"\n",
        "        # Flatten the tensor\n",
        "         x = x.view(x.size(0), -1)\n",
        "         x = self.fc1(x)\n",
        "         # Apply ReLU activation\n",
        "         x = self.relu(x)\n",
        "         return self.fc2(x)"
      ]
    },
    {
      "cell_type": "code",
      "execution_count": 13,
      "id": "b9f33cec",
      "metadata": {
        "id": "b9f33cec"
      },
      "outputs": [],
      "source": [
        "# Define a function to handle calculating the accuracy and loss of the model\n",
        "def evaluate_model(model, data_loader, criterion):\n",
        "    \"\"\"\n",
        "    Evaluates the model's average loss and accuracy on a dataset.\n",
        "\n",
        "    Args:\n",
        "        model (nn.Module): The trained model to evaluate.\n",
        "        data_loader (DataLoader): DataLoader for validation or test set.\n",
        "        criterion (nn.Module): Loss function used (e.g., CrossEntropyLoss).\n",
        "\n",
        "    Returns:\n",
        "        tuple: (average_loss, accuracy) for the dataset\n",
        "    \"\"\"\n",
        "    model.eval() # Set the model to evaluation mode\n",
        "    running_loss = 0.0\n",
        "    correct = 0\n",
        "    total = 0\n",
        "\n",
        "    with torch.no_grad(): # Disable gradient computation for speed\n",
        "        for images, labels in data_loader: # Loop over validation or test data in batches\n",
        "            outputs = model(images) # Perform forward pass through model for predicted scores\n",
        "            loss = criterion(outputs, labels)\n",
        "            running_loss += loss.item()\n",
        "\n",
        "            _, predicted = torch.max(outputs, 1) #  Choose index of highest score for each sample (predicted class)\n",
        "            total += labels.size(0)\n",
        "            correct += (predicted == labels).sum().item()\n",
        "\n",
        "    avg_loss = running_loss / len(data_loader)\n",
        "    accuracy = correct / total\n",
        "    return avg_loss, accuracy\n"
      ]
    },
    {
      "cell_type": "markdown",
      "id": "64bbc0bb",
      "metadata": {
        "id": "64bbc0bb"
      },
      "source": [
        "### Train the Two-Layer Network with Loss and L2 Regularization\n",
        "Initialize the two-layer network and the optimizer using stochastic gradient descent, implement a training loop for training.\n",
        "\n",
        "\n",
        "The loss should be the sum of two terms:  \n",
        "• A data loss term, which is the softmax loss between the model’s predicted scores and the ground-truth\n",
        "image labels.  \n",
        "• A regularization loss term, which penalizes the L2 norm of the weight matrices of all the fully-connected\n",
        "layers of the model. You should not apply L2 regularization to the biases."
      ]
    },
    {
      "cell_type": "code",
      "execution_count": 14,
      "id": "b85261e3",
      "metadata": {
        "id": "b85261e3"
      },
      "outputs": [],
      "source": [
        "# Initialize the model, loss function, and optimizer\n",
        "model = TwoLayerNet(input_dim=32*32*3, hidden_dim=256, num_classes=10)\n",
        "\n",
        "learning_rate = 0.01\n",
        "# weight_decay parameter in torch automatically applies L2 regularization\n",
        "# to weights only\n",
        "weight_decay = 0.0001\n",
        "\n",
        "# Cross entropy loss deals with softmax loss\n",
        "criterion = nn.CrossEntropyLoss()\n",
        "optimizer = optim.SGD(model.parameters(), lr=learning_rate, weight_decay=weight_decay)"
      ]
    },
    {
      "cell_type": "code",
      "execution_count": 15,
      "id": "690e2d93",
      "metadata": {
        "colab": {
          "base_uri": "https://localhost:8080/"
        },
        "id": "690e2d93",
        "outputId": "d864e6eb-6e84-4feb-92bd-d9f703ec8a58"
      },
      "outputs": [
        {
          "output_type": "stream",
          "name": "stdout",
          "text": [
            "Epoch 1/10 | Train Loss: 2.0416, Train Acc: 0.2757 | Val Loss: 1.9054, Val Acc: 0.3441\n",
            "Epoch 2/10 | Train Loss: 1.8679, Train Acc: 0.3457 | Val Loss: 1.8291, Val Acc: 0.3598\n",
            "Epoch 3/10 | Train Loss: 1.8007, Train Acc: 0.3691 | Val Loss: 1.7714, Val Acc: 0.3752\n",
            "Epoch 4/10 | Train Loss: 1.7502, Train Acc: 0.3863 | Val Loss: 1.7335, Val Acc: 0.3878\n",
            "Epoch 5/10 | Train Loss: 1.7107, Train Acc: 0.4029 | Val Loss: 1.7004, Val Acc: 0.4031\n",
            "Epoch 6/10 | Train Loss: 1.6748, Train Acc: 0.4138 | Val Loss: 1.6630, Val Acc: 0.4176\n",
            "Epoch 7/10 | Train Loss: 1.6429, Train Acc: 0.4260 | Val Loss: 1.6486, Val Acc: 0.4194\n",
            "Epoch 8/10 | Train Loss: 1.6174, Train Acc: 0.4341 | Val Loss: 1.6273, Val Acc: 0.4325\n",
            "Epoch 9/10 | Train Loss: 1.5941, Train Acc: 0.4427 | Val Loss: 1.6032, Val Acc: 0.4394\n",
            "Epoch 10/10 | Train Loss: 1.5743, Train Acc: 0.4496 | Val Loss: 1.5862, Val Acc: 0.4446\n"
          ]
        }
      ],
      "source": [
        "# Training configuration\n",
        "num_epochs = 10\n",
        "train_losses = []\n",
        "train_accuracies = []\n",
        "val_losses = []\n",
        "val_accuracies = []\n",
        "\n",
        "# Training loop\n",
        "for epoch in range(num_epochs):\n",
        "    model.train()  # Enable training mode\n",
        "    running_loss = 0.0\n",
        "    correct = 0\n",
        "    total = 0\n",
        "\n",
        "    for images, labels in train_loader:\n",
        "        optimizer.zero_grad()             # Clear previous gradients\n",
        "        outputs = model(images)           # Forward pass\n",
        "        loss = criterion(outputs, labels) # Compute loss\n",
        "        loss.backward()                   # Backpropagation\n",
        "        optimizer.step()                  # Update weights\n",
        "\n",
        "        # Accumulate training loss\n",
        "        running_loss += loss.item() * images.size(0)\n",
        "\n",
        "        # Compute training accuracy on the fly\n",
        "        _, predicted = torch.max(outputs, 1)\n",
        "        total += labels.size(0)\n",
        "        correct += (predicted == labels).sum().item()\n",
        "\n",
        "    # Average training loss and accuracy for this epoch\n",
        "    avg_train_loss = running_loss / len(train_loader.dataset)\n",
        "    train_accuracy = correct / total\n",
        "\n",
        "    train_losses.append(avg_train_loss)\n",
        "    train_accuracies.append(train_accuracy)\n",
        "\n",
        "    # Evaluate on validation set\n",
        "    val_loss, val_acc = evaluate_model(model, val_loader, criterion)\n",
        "    val_losses.append(val_loss)\n",
        "    val_accuracies.append(val_acc)\n",
        "\n",
        "    # Print training progress\n",
        "    print(f\"Epoch {epoch+1}/{num_epochs} | \"\n",
        "          f\"Train Loss: {avg_train_loss:.4f}, Train Acc: {train_accuracy:.4f} | \"\n",
        "          f\"Val Loss: {val_loss:.4f}, Val Acc: {val_acc:.4f}\")\n"
      ]
    },
    {
      "cell_type": "markdown",
      "id": "d09d4d9f",
      "metadata": {
        "id": "d09d4d9f"
      },
      "source": [
        "### Plot the Loss and Accuracy"
      ]
    },
    {
      "cell_type": "code",
      "execution_count": 16,
      "id": "95b86a9a",
      "metadata": {
        "colab": {
          "base_uri": "https://localhost:8080/",
          "height": 345
        },
        "id": "95b86a9a",
        "outputId": "b507774b-524f-4ca2-f4c9-784512175c42"
      },
      "outputs": [
        {
          "output_type": "display_data",
          "data": {
            "text/plain": [
              "<Figure size 1200x500 with 2 Axes>"
            ],
            "image/png": "[encoded data removed]"
          },
          "metadata": {}
        }
      ],
      "source": [
        "import matplotlib.pyplot as plt\n",
        "\n",
        "plt.figure(figsize=(12, 5))\n",
        "\n",
        "# Plot training loss\n",
        "plt.subplot(1, 2, 1)\n",
        "plt.plot(train_losses, label='Training Loss', color='blue')\n",
        "plt.xlabel(\"Epoch\")\n",
        "plt.ylabel(\"Loss\")\n",
        "plt.title(\"Training Loss\")\n",
        "plt.grid(True)\n",
        "plt.legend()\n",
        "\n",
        "# Plot training and validation accuracy\n",
        "plt.subplot(1, 2, 2)\n",
        "plt.plot(train_accuracies, label='Train Accuracy', color='green')\n",
        "plt.plot(val_accuracies, label='Validation Accuracy', color='orange')\n",
        "plt.xlabel(\"Epoch\")\n",
        "plt.ylabel(\"Accuracy\")\n",
        "plt.title(\"Accuracy\")\n",
        "plt.grid(True)\n",
        "plt.legend()\n",
        "\n",
        "plt.tight_layout()\n",
        "plt.show()\n"
      ]
    },
    {
      "cell_type": "markdown",
      "source": [
        "Save best model weights"
      ],
      "metadata": {
        "id": "0z738lEaHvc2"
      },
      "id": "0z738lEaHvc2"
    },
    {
      "cell_type": "code",
      "source": [
        "best_model_state = model.state_dict()  # Save a copy of model weights\n",
        "torch.save(best_model_state, 'best_twonet_model.pth')  # Save to file\n",
        "\n"
      ],
      "metadata": {
        "id": "owKJWjxNHvAd"
      },
      "id": "owKJWjxNHvAd",
      "execution_count": 17,
      "outputs": []
    },
    {
      "cell_type": "markdown",
      "source": [
        "Best Model Hyperparameters:\n",
        "\n",
        "Validation Accuracy: 44.11%\n",
        "\n",
        "- num_train: 40,000 images\n",
        "- hidden_dim: 256\n",
        "- batch_size: 64\n",
        "- num_epochs: 10  \n",
        "- learning_rate: 0.01\n",
        "- reg: 0.001"
      ],
      "metadata": {
        "id": "Vo-DiAXEtRPx"
      },
      "id": "Vo-DiAXEtRPx"
    },
    {
      "cell_type": "markdown",
      "source": [
        "Final Test Accuracy"
      ],
      "metadata": {
        "id": "6GM55Ey48XMc"
      },
      "id": "6GM55Ey48XMc"
    },
    {
      "cell_type": "code",
      "source": [
        "test_loss, test_accuracy = evaluate_model(model, test_loader, criterion)\n",
        "print(f\"[TwoLayerNet] Final Test Loss: {test_loss:.4f}, Final Test Accuracy: {test_accuracy:.4f}\")"
      ],
      "metadata": {
        "colab": {
          "base_uri": "https://localhost:8080/"
        },
        "id": "FCmEuDDM8Z5C",
        "outputId": "c65a9874-1328-4a76-eb96-86d7f8144814"
      },
      "id": "FCmEuDDM8Z5C",
      "execution_count": 18,
      "outputs": [
        {
          "output_type": "stream",
          "name": "stdout",
          "text": [
            "[TwoLayerNet] Final Test Loss: 1.5792, Final Test Accuracy: 0.4451\n"
          ]
        }
      ]
    },
    {
      "cell_type": "markdown",
      "id": "c623dc41",
      "metadata": {
        "id": "c623dc41"
      },
      "source": [
        "### Problem 2:\n",
        "\n",
        "\n",
        "In this assignment, you will design, implement, and train a two-layer Convolutional Neural Network\n",
        "(CNN) followed by one fully connected (dense) layer at the end. Your goal is to improve the model's\n",
        "performance using techniques learned in class.\n",
        "\n",
        "Instructions:\n",
        "1. Build the CNN Architecture\n",
        "\n",
        "  - The network should consist of two convolutional layers followed by at least one fully\n",
        "connected layer at the end.\n",
        "  - You may use ReLU activation for non-linearity and max pooling to reduce spatial\n",
        "dimensions.\n",
        "  - Feel free to experiment with kernel sizes, strides, and padding to improve performance.\n",
        "2. Enhance Model Performance\n",
        "\n",
        "  - Implement any optimization techniques learned in class, such as:\n",
        "    * Batch Normalization (for stable and faster training)\n",
        "    * Dropout (to prevent overfitting)\n",
        "    * Data Augmentation (to increase dataset diversity)\n",
        "  - You may also experiment with different learning rates, optimizers, or regularization\n",
        "techniques to achieve higher accuracy.\n",
        "\n",
        "3. Train Your Model\n",
        "  - Use the same dataset as in Problem 1.\n",
        "  - Follow all the training steps and preprocessing mentioned in Problem 1.\n",
        "  - Ensure proper train-validation splitting to evaluate the model correctly.\n",
        "4. Evaluate Your Model\n",
        "\n",
        "  - Report training and validation accuracy/loss using appropriate plots.\n",
        "  - Report test accuracy/loss using using the best setting.\n",
        "  - Compare your results with those from Problem 1.\n",
        "  - Discuss how the addition of CNN layers and techniques like dropout or batch normalization affected performance."
      ]
    },
    {
      "cell_type": "code",
      "source": [],
      "metadata": {
        "id": "KqTsJ_i55MyG"
      },
      "id": "KqTsJ_i55MyG",
      "execution_count": 18,
      "outputs": []
    },
    {
      "cell_type": "markdown",
      "id": "f3b5f926",
      "metadata": {
        "id": "f3b5f926"
      },
      "source": [
        "#### Data Augmentation\n",
        "\n",
        "To increase dataset diversity"
      ]
    },
    {
      "cell_type": "code",
      "source": [
        "transform_train = transforms.Compose([\n",
        "    transforms.RandomHorizontalFlip(),         # Randomly flip image horizontally\n",
        "    transforms.RandomCrop(32, padding=4),      # Randomly crop to 32x32 with 4-pixel padding\n",
        "    transforms.ToTensor(),                     # Convert image to [0, 1] tensor\n",
        "    transforms.Normalize((0.5, 0.5, 0.5),       # Normalize each channel to [-1, 1]\n",
        "                         (0.5, 0.5, 0.5))\n",
        "])\n",
        "\n",
        "# Matching Normalization transformation for val and test sets\n",
        "transform_test = transforms.Compose([\n",
        "    transforms.ToTensor(),\n",
        "    transforms.Normalize((0.5, 0.5, 0.5),\n",
        "                         (0.5, 0.5, 0.5))\n",
        "])\n"
      ],
      "metadata": {
        "id": "4KZ81C14xrEx"
      },
      "id": "4KZ81C14xrEx",
      "execution_count": 19,
      "outputs": []
    },
    {
      "cell_type": "code",
      "source": [
        "# Apply transforms to datasets\n",
        "train_dataset = CIFAR10(root='./data', train=True, download=True)\n",
        "test_dataset = CIFAR10(root='./data', train=False, download=True, transform=transform_test)\n",
        "\n",
        "# Split into training and validation sets (e.g., 45k train / 5k val)\n",
        "train_set, val_set = random_split(train_dataset, [45000, 5000], generator=generator)\n",
        "\n",
        "# Manually apply transforms to train_set and val_set transform\n",
        "train_set.dataset.transform = transform_train\n",
        "val_set.dataset.transform = transform_test\n",
        "\n",
        "# Increased batch size and made chnages to use GPU resources for training\n",
        "batch_size = 256\n",
        "\n",
        "# Create data loaders\n",
        "train_loader = DataLoader(train_set, batch_size=batch_size, shuffle=True)\n",
        "val_loader = DataLoader(val_set, batch_size=batch_size)\n",
        "test_loader = DataLoader(test_dataset, batch_size=batch_size)"
      ],
      "metadata": {
        "id": "hh_YwR2v5Wot"
      },
      "id": "hh_YwR2v5Wot",
      "execution_count": 20,
      "outputs": []
    },
    {
      "cell_type": "code",
      "source": [
        "def evaluate_model(model, data_loader, criterion):\n",
        "    \"\"\"\n",
        "    Evaluates model loss and accuracy on a dataset.\n",
        "    \"\"\"\n",
        "    model.eval()\n",
        "    total_loss = 0.0\n",
        "    correct = 0\n",
        "    total = 0\n",
        "\n",
        "    device = next(model.parameters()).device  # Automatically detect if model is on CPU or GPU\n",
        "\n",
        "    with torch.no_grad():\n",
        "        for images, labels in data_loader:\n",
        "            images = images.to(device)\n",
        "            labels = labels.to(device)\n",
        "\n",
        "            outputs = model(images)\n",
        "            loss = criterion(outputs, labels)\n",
        "\n",
        "            total_loss += loss.item() * images.size(0)\n",
        "            _, predicted = torch.max(outputs, 1)\n",
        "            correct += (predicted == labels).sum().item()\n",
        "            total += labels.size(0)\n",
        "\n",
        "    avg_loss = total_loss / total\n",
        "    accuracy = correct / total\n",
        "    return avg_loss, accuracy\n"
      ],
      "metadata": {
        "id": "pUkT6IrNXLjM"
      },
      "id": "pUkT6IrNXLjM",
      "execution_count": 21,
      "outputs": []
    },
    {
      "cell_type": "markdown",
      "source": [
        "#### Build CNN Architecture\n",
        "\n",
        "- The network consists of two convolutional layers followed by at least one fully\n",
        "connected layer at the end.\n",
        "  - You may use ReLU activation for non-linearity and max pooling to reduce spatial\n",
        "dimensions.\n",
        "  - Feel free to experiment with kernel sizes, strides, and padding to improve performance.\n",
        "\n",
        " -  Implemented the following optimization techniques learned in class:\n",
        "    * Batch Normalization (for stable and faster training)\n",
        "    * Dropout (to prevent overfitting)\n",
        "    * Data Augmentation (to increase dataset diversity)\n",
        "  - You may also experiment with different learning rates, optimizers, or regularization\n",
        "techniques to achieve higher accuracy."
      ],
      "metadata": {
        "id": "7RgBj4KgyuUA"
      },
      "id": "7RgBj4KgyuUA"
    },
    {
      "cell_type": "code",
      "source": [
        "class CNN(nn.Module):\n",
        "    \"\"\"\n",
        "    A simple Convolutional Neural Network (CNN) for image classification on CIFAR-10.\n",
        "\n",
        "    Architecture:\n",
        "    - Two convolutional layers with ReLU activation and max pooling\n",
        "    - Batch normalization after each convolution (optional)\n",
        "    - One fully connected hidden layer with dropout\n",
        "    - Output layer with logits for 10 classes\n",
        "    \"\"\"\n",
        "\n",
        "    def __init__(self):\n",
        "        \"\"\"\n",
        "        Initializes the CNN architecture.\n",
        "        \"\"\"\n",
        "        super().__init__()\n",
        "\n",
        "        # Convolutional layers block\n",
        "        self.conv_layers = nn.Sequential(\n",
        "            nn.Conv2d(3, 32, kernel_size=3, padding=1),   # Conv Layer 1: input channels=3 (RGB), output=32\n",
        "            nn.BatchNorm2d(32),                           # Normalize across batch\n",
        "            nn.ReLU(),                                    # ReLU activation\n",
        "            nn.MaxPool2d(2),                              # Downsample by factor of 2 (output: 16x16)\n",
        "\n",
        "            nn.Conv2d(32, 64, kernel_size=3, padding=1),  # Conv Layer 2: input=32, output=64\n",
        "            nn.BatchNorm2d(64),                           # Normalize\n",
        "            nn.ReLU(),                                    # ReLU activation\n",
        "            nn.MaxPool2d(2),                               # Downsample by factor of 2 (output: 8x8)\n",
        "\n",
        "\n",
        "            nn.Conv2d(64, 128, kernel_size=3, padding=1),  # Conv Layer 3: input=64, output=128\n",
        "            nn.BatchNorm2d(128),                           # Normalize\n",
        "            nn.ReLU(),                                    # ReLU activation\n",
        "            nn.MaxPool2d(2)                               # Downsample by factor of 2 (output: 4x4)\n",
        "\n",
        "        )\n",
        "\n",
        "        # Fully connected layers block\n",
        "        self.fc_layers = nn.Sequential(\n",
        "            nn.Dropout(0.5),                              # Dropout for regularization\n",
        "            nn.Linear(128 * 4 * 4, 512),                   # Flattened input: 128 channels * 4x4 feature map\n",
        "            nn.ReLU(),                                    # ReLU activation\n",
        "            nn.Linear(512, 10)                            # Final output layer: 10 class scores\n",
        "        )\n",
        "\n",
        "    def forward(self, x):\n",
        "        \"\"\"\n",
        "        Defines the forward pass of the CNN.\n",
        "\n",
        "        Args:\n",
        "            x (Tensor): Input image tensor of shape (batch_size, 3, 32, 32)\n",
        "\n",
        "        Returns:\n",
        "            Tensor: Output logits of shape (batch_size, 10)\n",
        "        \"\"\"\n",
        "        x = self.conv_layers(x)                   # Pass through conv + pool block\n",
        "        x = x.view(x.size(0), -1)                 # Flatten to (batch_size, 64*8*8) for fully connected layer\n",
        "        return self.fc_layers(x)                  # Pass through fully connected layers\n"
      ],
      "metadata": {
        "id": "nMlwbyZDyt7B"
      },
      "id": "nMlwbyZDyt7B",
      "execution_count": 22,
      "outputs": []
    },
    {
      "cell_type": "markdown",
      "source": [
        "### Initialize Model and Train"
      ],
      "metadata": {
        "id": "u3pYykiB1nZB"
      },
      "id": "u3pYykiB1nZB"
    },
    {
      "cell_type": "code",
      "source": [
        "# Initialize the model, loss function, and optimizer\n",
        "model = CNN().to(device)\n",
        "criterion = nn.CrossEntropyLoss()  # Softmax + cross-entropy\n",
        "optimizer = optim.Adam(model.parameters(), lr=1e-3, weight_decay=1e-3)  # L2 regularization\n",
        "scheduler = ReduceLROnPlateau(optimizer, mode='min', factor=0.5, patience=3)\n",
        "\n",
        "scaler = GradScaler('cuda')"
      ],
      "metadata": {
        "id": "PrUKFnTN1y37"
      },
      "id": "PrUKFnTN1y37",
      "execution_count": 24,
      "outputs": []
    },
    {
      "cell_type": "markdown",
      "source": [
        "Training Loop"
      ],
      "metadata": {
        "id": "z559Fk7h3iRG"
      },
      "id": "z559Fk7h3iRG"
    },
    {
      "cell_type": "code",
      "source": [
        "num_epochs = 30\n",
        "\n",
        "train_losses = []\n",
        "train_accuracies = []\n",
        "val_losses = []\n",
        "val_accuracies = []\n",
        "\n",
        "\n",
        "for epoch in range(num_epochs):\n",
        "    model.train()\n",
        "    running_loss = 0.0\n",
        "    correct = 0\n",
        "    total = 0\n",
        "\n",
        "    for images, labels in train_loader:\n",
        "        images, labels = images.to(device), labels.to(device)\n",
        "        optimizer.zero_grad()\n",
        "\n",
        "        with autocast(device_type='cuda'): # Enable mixed precision\n",
        "            outputs = model(images)\n",
        "            loss = criterion(outputs, labels)\n",
        "\n",
        "        # Backpropagation with scaling\n",
        "        scaler.scale(loss).backward()\n",
        "        scaler.step(optimizer)\n",
        "        scaler.update()\n",
        "\n",
        "        running_loss += loss.item() * images.size(0)\n",
        "        _, preds = torch.max(outputs, 1)\n",
        "        correct += (preds == labels).sum().item()\n",
        "        total += labels.size(0)\n",
        "\n",
        "    # Training stats\n",
        "    avg_train_loss = running_loss / len(train_loader.dataset)\n",
        "    train_accuracy = correct / total\n",
        "    train_losses.append(avg_train_loss)\n",
        "    train_accuracies.append(train_accuracy)\n",
        "\n",
        "    # Validation evaluation\n",
        "    val_loss, val_accuracy = evaluate_model(model, val_loader, criterion)\n",
        "    val_losses.append(val_loss)\n",
        "    val_accuracies.append(val_accuracy)\n",
        "\n",
        "    scheduler.step(val_loss)\n",
        "\n",
        "    # Print progress\n",
        "    print(f\"Epoch {epoch+1}/{num_epochs} | \"\n",
        "          f\"Train Loss: {avg_train_loss:.4f}, Train Acc: {train_accuracy:.4f} | \"\n",
        "          f\"Val Loss: {val_loss:.4f}, Val Acc: {val_accuracy:.4f}\")\n",
        "\n",
        "\n"
      ],
      "metadata": {
        "colab": {
          "base_uri": "https://localhost:8080/"
        },
        "id": "56T14Ei83ixC",
        "outputId": "2e7fe0a6-01f2-454a-de3d-48f6fe2416cb"
      },
      "id": "56T14Ei83ixC",
      "execution_count": 26,
      "outputs": [
        {
          "output_type": "stream",
          "name": "stdout",
          "text": [
            "Epoch 1/30 | Train Loss: 0.4562, Train Acc: 0.8391 | Val Loss: 0.5530, Val Acc: 0.8120\n",
            "Epoch 2/30 | Train Loss: 0.4350, Train Acc: 0.8468 | Val Loss: 0.5980, Val Acc: 0.7882\n",
            "Epoch 3/30 | Train Loss: 0.4258, Train Acc: 0.8484 | Val Loss: 0.5524, Val Acc: 0.8154\n",
            "Epoch 4/30 | Train Loss: 0.4164, Train Acc: 0.8537 | Val Loss: 0.5787, Val Acc: 0.8004\n",
            "Epoch 5/30 | Train Loss: 0.4160, Train Acc: 0.8536 | Val Loss: 0.5899, Val Acc: 0.8072\n",
            "Epoch 6/30 | Train Loss: 0.4018, Train Acc: 0.8582 | Val Loss: 0.5533, Val Acc: 0.8164\n",
            "Epoch 7/30 | Train Loss: 0.3932, Train Acc: 0.8626 | Val Loss: 0.5312, Val Acc: 0.8242\n",
            "Epoch 8/30 | Train Loss: 0.3810, Train Acc: 0.8642 | Val Loss: 0.6218, Val Acc: 0.7880\n",
            "Epoch 9/30 | Train Loss: 0.3688, Train Acc: 0.8703 | Val Loss: 0.5946, Val Acc: 0.7964\n",
            "Epoch 10/30 | Train Loss: 0.3563, Train Acc: 0.8747 | Val Loss: 0.5515, Val Acc: 0.8144\n",
            "Epoch 11/30 | Train Loss: 0.3529, Train Acc: 0.8736 | Val Loss: 0.5898, Val Acc: 0.8084\n",
            "Epoch 12/30 | Train Loss: 0.2870, Train Acc: 0.9006 | Val Loss: 0.4907, Val Acc: 0.8396\n",
            "Epoch 13/30 | Train Loss: 0.2674, Train Acc: 0.9074 | Val Loss: 0.4971, Val Acc: 0.8368\n",
            "Epoch 14/30 | Train Loss: 0.2572, Train Acc: 0.9100 | Val Loss: 0.5167, Val Acc: 0.8292\n",
            "Epoch 15/30 | Train Loss: 0.2535, Train Acc: 0.9142 | Val Loss: 0.5140, Val Acc: 0.8284\n",
            "Epoch 16/30 | Train Loss: 0.2498, Train Acc: 0.9128 | Val Loss: 0.4990, Val Acc: 0.8328\n",
            "Epoch 17/30 | Train Loss: 0.2151, Train Acc: 0.9278 | Val Loss: 0.5034, Val Acc: 0.8368\n",
            "Epoch 18/30 | Train Loss: 0.2053, Train Acc: 0.9310 | Val Loss: 0.4987, Val Acc: 0.8374\n",
            "Epoch 19/30 | Train Loss: 0.1957, Train Acc: 0.9349 | Val Loss: 0.4737, Val Acc: 0.8496\n",
            "Epoch 20/30 | Train Loss: 0.1946, Train Acc: 0.9355 | Val Loss: 0.4844, Val Acc: 0.8476\n",
            "Epoch 21/30 | Train Loss: 0.1889, Train Acc: 0.9372 | Val Loss: 0.4843, Val Acc: 0.8458\n",
            "Epoch 22/30 | Train Loss: 0.1844, Train Acc: 0.9389 | Val Loss: 0.4890, Val Acc: 0.8444\n",
            "Epoch 23/30 | Train Loss: 0.1833, Train Acc: 0.9380 | Val Loss: 0.4930, Val Acc: 0.8438\n",
            "Epoch 24/30 | Train Loss: 0.1654, Train Acc: 0.9482 | Val Loss: 0.4790, Val Acc: 0.8466\n",
            "Epoch 25/30 | Train Loss: 0.1591, Train Acc: 0.9494 | Val Loss: 0.4922, Val Acc: 0.8462\n",
            "Epoch 26/30 | Train Loss: 0.1565, Train Acc: 0.9506 | Val Loss: 0.4810, Val Acc: 0.8500\n",
            "Epoch 27/30 | Train Loss: 0.1548, Train Acc: 0.9516 | Val Loss: 0.4795, Val Acc: 0.8492\n",
            "Epoch 28/30 | Train Loss: 0.1466, Train Acc: 0.9540 | Val Loss: 0.4834, Val Acc: 0.8456\n",
            "Epoch 29/30 | Train Loss: 0.1440, Train Acc: 0.9546 | Val Loss: 0.4793, Val Acc: 0.8516\n",
            "Epoch 30/30 | Train Loss: 0.1409, Train Acc: 0.9579 | Val Loss: 0.4767, Val Acc: 0.8514\n"
          ]
        }
      ]
    },
    {
      "cell_type": "markdown",
      "source": [
        "Plot Training Loss and Training and Validation Accuracy"
      ],
      "metadata": {
        "id": "4973LYJK7TL2"
      },
      "id": "4973LYJK7TL2"
    },
    {
      "cell_type": "code",
      "source": [
        "plt.figure(figsize=(12, 5))\n",
        "\n",
        "# Plot Training Loss\n",
        "plt.subplot(1, 2, 1)\n",
        "plt.plot(train_losses, label='Training Loss', color='blue')\n",
        "plt.xlabel('Epoch')\n",
        "plt.ylabel('Loss')\n",
        "plt.title('Training Loss')\n",
        "plt.grid(True)\n",
        "plt.legend()\n",
        "\n",
        "# Plot Accuracy\n",
        "plt.subplot(1, 2, 2)\n",
        "plt.plot(train_accuracies, label='Train Accuracy', color='green')\n",
        "plt.plot(val_accuracies, label='Validation Accuracy', color='orange')\n",
        "plt.xlabel('Epoch')\n",
        "plt.ylabel('Accuracy')\n",
        "plt.title('Accuracy Over Epochs')\n",
        "plt.grid(True)\n",
        "plt.legend()\n",
        "\n",
        "plt.tight_layout()\n",
        "plt.show()"
      ],
      "metadata": {
        "colab": {
          "base_uri": "https://localhost:8080/",
          "height": 345
        },
        "id": "DFsKxgHL7oef",
        "outputId": "4f49737c-d183-42a9-8f77-9fd319d77161"
      },
      "id": "DFsKxgHL7oef",
      "execution_count": 27,
      "outputs": [
        {
          "output_type": "display_data",
          "data": {
            "text/plain": [
              "<Figure size 1200x500 with 2 Axes>"
            ],
            "image/png": "[encoded data removed]"
          },
          "metadata": {}
        }
      ]
    },
    {
      "cell_type": "code",
      "source": [
        "test_loss, test_accuracy = evaluate_model(model, test_loader, criterion)\n",
        "print(f\"[CNN] Final Test Loss: {test_loss:.4f}, Final Test Accuracy: {test_accuracy:.4f}\")"
      ],
      "metadata": {
        "colab": {
          "base_uri": "https://localhost:8080/"
        },
        "id": "atJ2Pi5Glcqw",
        "outputId": "1c874a8c-5914-4fa8-fe84-9db668a7f1f8"
      },
      "id": "atJ2Pi5Glcqw",
      "execution_count": 28,
      "outputs": [
        {
          "output_type": "stream",
          "name": "stdout",
          "text": [
            "[CNN] Final Test Loss: 0.4945, Final Test Accuracy: 0.8397\n"
          ]
        }
      ]
    },
    {
      "cell_type": "markdown",
      "source": [
        "The addition of tthe CNN layers as erll as techniques like"
      ],
      "metadata": {
        "id": "FSO96Icq40b5"
      },
      "id": "FSO96Icq40b5"
    }
  ],
  "metadata": {
    "kernelspec": {
      "display_name": "Python 3",
      "name": "python3"
    },
    "language_info": {
      "codemirror_mode": {
        "name": "ipython",
        "version": 3
      },
      "file_extension": ".py",
      "mimetype": "text/x-python",
      "name": "python",
      "nbconvert_exporter": "python",
      "pygments_lexer": "ipython3",
      "version": "3.11.13"
    },
    "colab": {
      "provenance": [],
      "machine_shape": "hm",
      "gpuType": "A100"
    },
    "accelerator": "GPU"
  },
  "nbformat": 4,
  "nbformat_minor": 5
}