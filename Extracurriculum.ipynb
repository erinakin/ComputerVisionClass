{
 "cells": [
  {
   "cell_type": "markdown",
   "id": "aed4896a",
   "metadata": {},
   "source": [
    "## 📖 Extra-curriculum\n",
    "\n",
    "* Read through the [list of TensorFlow Python APIs](https://www.tensorflow.org/api_docs/python/), pick one we haven't gone through in this notebook, reverse engineer it (write out the documentation code for yourself) and figure out what it does.\n",
    "* Try to create a series of tensor functions to calculate your most recent grocery bill (it's okay if you don't use the names of the items, just the price in numerical form).\n",
    "  * How would you calculate your grocery bill for the month and for the year using tensors?\n",
    "* Go through the [TensorFlow 2.x quick start for beginners](https://www.tensorflow.org/tutorials/quickstart/beginner) tutorial (be sure to type out all of the code yourself, even if you don't understand it).\n",
    "  * Are there any functions we used in here that match what's used in there? Which are the same? Which haven't you seen before?\n",
    "* Watch the video [\"What's a tensor?\"](https://www.youtube.com/watch?v=f5liqUk0ZTw) - a great visual introduction to many of the concepts we've covered in this notebook."
   ]
  },
  {
   "cell_type": "code",
   "execution_count": 1,
   "id": "c888e677",
   "metadata": {},
   "outputs": [],
   "source": [
    "import tensorflow as tf"
   ]
  },
  {
   "cell_type": "code",
   "execution_count": null,
   "id": "ce47d6b7",
   "metadata": {},
   "outputs": [
    {
     "ename": "NameError",
     "evalue": "name 'eggs' is not defined",
     "output_type": "error",
     "traceback": [
      "\u001b[31m---------------------------------------------------------------------------\u001b[39m",
      "\u001b[31mNameError\u001b[39m                                 Traceback (most recent call last)",
      "\u001b[36mCell\u001b[39m\u001b[36m \u001b[39m\u001b[32mIn[3]\u001b[39m\u001b[32m, line 2\u001b[39m\n\u001b[32m      1\u001b[39m \u001b[38;5;66;03m# This code snippet creates a constant tensor representing a grocery bill with item prices. \u001b[39;00m\n\u001b[32m----> \u001b[39m\u001b[32m2\u001b[39m grocery_items =tf.constant([\u001b[43meggs\u001b[49m, milk, bagels, tomato_sauce]) \n\u001b[32m      4\u001b[39m \u001b[38;5;66;03m# Prices for each grocery item bought each week\u001b[39;00m\n\u001b[32m      5\u001b[39m grocery_prices = tf.constant([\u001b[32m3.99\u001b[39m, \u001b[32m4.49\u001b[39m, \u001b[32m4.49\u001b[39m, \u001b[32m6.99\u001b[39m])\n",
      "\u001b[31mNameError\u001b[39m: name 'eggs' is not defined"
     ]
    }
   ],
   "source": [
    "# This code snippet creates a constant tensor representing a grocery bill with item prices. \n",
    "grocery_labels =tf.constant(['eggs', 'milk', 'bagels', 'tomato_sauce']) \n",
    "\n",
    "# Prices for each grocery item bought each week\n",
    "grocery_prices = tf.constant([3.99, 4.49, 4.49, 6.99])\n",
    "\n",
    "# Calculate the total weekly cost of the grocery bill\n",
    "total_weekly_cost = tf.reduce_sum(grocery_items * grocery_prices) "
   ]
  },
  {
   "cell_type": "code",
   "execution_count": null,
   "id": "bc02d31a",
   "metadata": {},
   "outputs": [],
   "source": []
  }
 ],
 "metadata": {
  "kernelspec": {
   "display_name": "computervision",
   "language": "python",
   "name": "python3"
  },
  "language_info": {
   "codemirror_mode": {
    "name": "ipython",
    "version": 3
   },
   "file_extension": ".py",
   "mimetype": "text/x-python",
   "name": "python",
   "nbconvert_exporter": "python",
   "pygments_lexer": "ipython3",
   "version": "3.11.13"
  }
 },
 "nbformat": 4,
 "nbformat_minor": 5
}
